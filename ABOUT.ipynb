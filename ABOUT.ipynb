{
 "cells": [
  {
   "cell_type": "code",
   "execution_count": null,
   "id": "b1ea2397",
   "metadata": {},
   "outputs": [],
   "source": [
    "import streamlit as st"
   ]
  },
  {
   "cell_type": "code",
   "execution_count": null,
   "id": "a2451972",
   "metadata": {},
   "outputs": [],
   "source": [
    "def show():\n",
    "    st.title(\"About Campus Placement Portal\")\n",
    "    st.markdown(\"\"\"  This application helps manage and monitor campus placements by:\n",
    "    - Checking student eligibility based on customizable criteria.\n",
    "    - Analyzing placement data through SQL-based insights.\n",
    "    - Providing interactive visualizations for informed decision making.\n",
    "    \"\"\")"
   ]
  }
 ],
 "metadata": {
  "kernelspec": {
   "display_name": "Python 3",
   "language": "python",
   "name": "python3"
  },
  "language_info": {
   "codemirror_mode": {
    "name": "ipython",
    "version": 3
   },
   "file_extension": ".py",
   "mimetype": "text/x-python",
   "name": "python",
   "nbconvert_exporter": "python",
   "pygments_lexer": "ipython3",
   "version": "3.8.8"
  }
 },
 "nbformat": 4,
 "nbformat_minor": 5
}
