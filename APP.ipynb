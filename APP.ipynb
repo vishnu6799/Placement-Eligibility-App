{
 "cells": [
  {
   "cell_type": "code",
   "execution_count": null,
   "id": "45a6e871",
   "metadata": {},
   "outputs": [],
   "source": [
    "import streamlit as st"
   ]
  },
  {
   "cell_type": "code",
   "execution_count": null,
   "id": "35de6555",
   "metadata": {},
   "outputs": [],
   "source": [
    "def login():\n",
    "    st.title(\"Campus Placements Portal\")\n",
    "    st.header(\"Login\")\n",
    "    user_name = st.text_input(\"Enter User Name: \")\n",
    "    password = st.text_input(\"Enter Password: \")\n",
    "    if st.button(\"Login\"):\n",
    "        if user_name == \"admin\" and password==\"password\":\n",
    "            st.session_state['logged_in']=True\n",
    "        else:\n",
    "            st.error(\"Invalid Credentials\")\n",
    "            \n"
   ]
  },
  {
   "cell_type": "code",
   "execution_count": null,
   "id": "7d0644fb",
   "metadata": {},
   "outputs": [],
   "source": [
    "if 'logged_in' not in st.session_state:\n",
    "    st.session_state['logged_in']=False\n",
    "if not st.session_state['logged_in']:\n",
    "    login()\n",
    "else:\n",
    "    st.sidebar.title(\"Navigation\")\n",
    "    page = st.sidebar.radio('Go To',['About','Students Eligibility','Data Insights'])\n",
    "    if page=='About':\n",
    "        import pages.About as about\n",
    "        about.show()\n",
    "    elif page == 'Stuendts Eligibility':\n",
    "        import pages.Eligibility as eligibility\n",
    "        eligibility.show()\n",
    "    elif page=='Data Insights':\n",
    "        import pages.Insights as insights\n",
    "        insights.show()"
   ]
  }
 ],
 "metadata": {
  "kernelspec": {
   "display_name": "Python 3",
   "language": "python",
   "name": "python3"
  },
  "language_info": {
   "codemirror_mode": {
    "name": "ipython",
    "version": 3
   },
   "file_extension": ".py",
   "mimetype": "text/x-python",
   "name": "python",
   "nbconvert_exporter": "python",
   "pygments_lexer": "ipython3",
   "version": "3.8.8"
  }
 },
 "nbformat": 4,
 "nbformat_minor": 5
}
