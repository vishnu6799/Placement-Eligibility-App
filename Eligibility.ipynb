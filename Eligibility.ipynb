{
 "cells": [
  {
   "cell_type": "code",
   "execution_count": null,
   "id": "68d6b158",
   "metadata": {},
   "outputs": [],
   "source": [
    "import streamlit as st\n",
    "import sqlite3\n",
    "import pandas as pd"
   ]
  },
  {
   "cell_type": "code",
   "execution_count": null,
   "id": "4bb8d91e",
   "metadata": {},
   "outputs": [],
   "source": [
    "def show():\n",
    "    st.title(\"Students Eligibilty\")\n",
    "    conn = sqlite3.connect('Campus_Placements.db')\n",
    "    c = conn.cursor()\n",
    "    problems_solved = st.number_input(\"Minimum Problems Solved:\", 0, 1000, 50)\n",
    "    mock_interview = st.number_input(\"Minimum Mock Interview Score:\", 0, 100, 60)\n",
    "    age = st.number_input(\"Maximum Age:\", 22, 35, 25)\n",
    "    mini_project = st.number_input(\"Minimum Mini Project Completed:\", 0, 5, 2)\n",
    "    assessments = st.number_input(\"Minimum Assessments Completed:\", 0, 10, 3)\n",
    "    query = f\"\"\"\n",
    "    SELECT S.Student_id, S.Name, S.Age, P.Problems_Solved, P.Mini_Projects, PL.Mock_Interview_Score,P.Assessments_completed\n",
    "    FROM STUDENTS_TABLE S\n",
    "    JOIN Programming_Table P ON S.Student_id = P.Student_id\n",
    "    JOIN Placements_Table PL ON S.Student_id = SS.Student_id\n",
    "    WHERE P.Problems_Solved >= {problems_solved}\n",
    "      AND PL.Mock_Interview_Score >= {mock_interview}\n",
    "      AND S.Age <= {age}\n",
    "      AND P.Mini_Projects >= {mini_project}\n",
    "      AND P.Assessments_completed >={assessments}\n",
    "    \"\"\"\n",
    "    df = pd.read_sql(query, conn)\n",
    "    st.dataframe(df)\n",
    "\n",
    "    conn.close()"
   ]
  },
  {
   "cell_type": "code",
   "execution_count": null,
   "id": "c40eb5f9",
   "metadata": {},
   "outputs": [],
   "source": []
  }
 ],
 "metadata": {
  "kernelspec": {
   "display_name": "Python 3",
   "language": "python",
   "name": "python3"
  },
  "language_info": {
   "codemirror_mode": {
    "name": "ipython",
    "version": 3
   },
   "file_extension": ".py",
   "mimetype": "text/x-python",
   "name": "python",
   "nbconvert_exporter": "python",
   "pygments_lexer": "ipython3",
   "version": "3.8.8"
  }
 },
 "nbformat": 4,
 "nbformat_minor": 5
}
